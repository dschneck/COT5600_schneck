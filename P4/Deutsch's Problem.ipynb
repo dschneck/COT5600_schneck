{
 "cells": [
  {
   "cell_type": "code",
   "execution_count": 78,
   "id": "e2719dff",
   "metadata": {},
   "outputs": [],
   "source": [
    "from qiskit import *\n",
    "import numpy as np\n",
    "from qiskit import QuantumCircuit, transpile\n",
    "from qiskit.tools.monitor import job_monitor\n",
    "from qiskit.visualization import plot_histogram, plot_bloch_multivector\n",
    "from qiskit_textbook.tools import vector2latex\n",
    "from qiskit.quantum_info import Statevector"
   ]
  },
  {
   "cell_type": "code",
   "execution_count": 79,
   "id": "50d55a75",
   "metadata": {},
   "outputs": [
    {
     "data": {
      "image/png": "[encoded data removed]",
      "text/plain": [
       "<Figure size 206.852x144.48 with 1 Axes>"
      ]
     },
     "execution_count": 79,
     "metadata": {},
     "output_type": "execute_result"
    }
   ],
   "source": [
    "deutsch_0 = QuantumCircuit(2)\n",
    "deutsch_0.x(1)\n",
    "deutsch_0.barrier()\n",
    "deutsch_0.draw(output=\"mpl\")"
   ]
  },
  {
   "cell_type": "code",
   "execution_count": 80,
   "id": "442f3c2d",
   "metadata": {},
   "outputs": [
    {
     "data": {
      "text/latex": [
       "$$ |10\\rangle$$"
      ],
      "text/plain": [
       "<IPython.core.display.Latex object>"
      ]
     },
     "execution_count": 80,
     "metadata": {},
     "output_type": "execute_result"
    }
   ],
   "source": [
    "sv = Statevector.from_label('00')\n",
    "sv_0 = sv.evolve(deutsch_0)\n",
    "sv_0.draw(output=\"latex\")"
   ]
  },
  {
   "cell_type": "code",
   "execution_count": 81,
   "id": "268cd44f",
   "metadata": {},
   "outputs": [
    {
     "data": {
      "text/plain": [
       "<qiskit.circuit.instructionset.InstructionSet at 0x7fb3e1e37080>"
      ]
     },
     "execution_count": 81,
     "metadata": {},
     "output_type": "execute_result"
    }
   ],
   "source": [
    "deutsch_1 = deutsch_0.copy('')\n",
    "deutsch_1.h(0)\n",
    "deutsch_1.h(1)"
   ]
  },
  {
   "cell_type": "code",
   "execution_count": 82,
   "id": "f430e51d",
   "metadata": {},
   "outputs": [
    {
     "data": {
      "image/png": "[encoded data removed]",
      "text/plain": [
       "<Figure size 267.052x144.48 with 1 Axes>"
      ]
     },
     "execution_count": 82,
     "metadata": {},
     "output_type": "execute_result"
    }
   ],
   "source": [
    "deutsch_1.draw(output=\"mpl\")"
   ]
  },
  {
   "cell_type": "code",
   "execution_count": 83,
   "id": "7e3e2ad7",
   "metadata": {},
   "outputs": [
    {
     "data": {
      "text/latex": [
       "$$\\frac{1}{2} |00\\rangle+\\frac{1}{2} |01\\rangle- \\frac{1}{2} |10\\rangle- \\frac{1}{2} |11\\rangle$$"
      ],
      "text/plain": [
       "<IPython.core.display.Latex object>"
      ]
     },
     "execution_count": 83,
     "metadata": {},
     "output_type": "execute_result"
    }
   ],
   "source": [
    "sv_1 = sv.evolve(deutsch_1)\n",
    "sv_1.draw(output=\"latex\")"
   ]
  },
  {
   "cell_type": "code",
   "execution_count": 85,
   "id": "2ba29f8f",
   "metadata": {},
   "outputs": [
    {
     "data": {
      "image/png": "[encoded data removed]",
      "text/plain": [
       "<Figure size 387.452x144.48 with 1 Axes>"
      ]
     },
     "execution_count": 85,
     "metadata": {},
     "output_type": "execute_result"
    }
   ],
   "source": [
    "deutsch_2 = deutsch_1.copy('')\n",
    "deutsch_2.barrier()\n",
    "deutsch_2.cx(0, 1)\n",
    "deutsch_2.draw(output='mpl')"
   ]
  },
  {
   "cell_type": "code",
   "execution_count": 86,
   "id": "f09f9e3e",
   "metadata": {},
   "outputs": [
    {
     "data": {
      "text/latex": [
       "$$\\frac{1}{2} |00\\rangle- \\frac{1}{2} |01\\rangle- \\frac{1}{2} |10\\rangle+\\frac{1}{2} |11\\rangle$$"
      ],
      "text/plain": [
       "<IPython.core.display.Latex object>"
      ]
     },
     "execution_count": 86,
     "metadata": {},
     "output_type": "execute_result"
    }
   ],
   "source": [
    "sv_2 = sv.evolve(deutsch_2)\n",
    "sv_2.draw(output=\"latex\")"
   ]
  },
  {
   "cell_type": "code",
   "execution_count": 87,
   "id": "d314d63d",
   "metadata": {},
   "outputs": [
    {
     "data": {
      "image/png": "[encoded data removed]",
      "text/plain": [
       "<Figure size 447.652x144.48 with 1 Axes>"
      ]
     },
     "execution_count": 87,
     "metadata": {},
     "output_type": "execute_result"
    }
   ],
   "source": [
    "deutsch_3 = deutsch_2.copy('')\n",
    "deutsch_3.h(0)\n",
    "deutsch_3.draw(output='mpl')"
   ]
  },
  {
   "cell_type": "code",
   "execution_count": 88,
   "id": "80f531a8",
   "metadata": {},
   "outputs": [
    {
     "data": {
      "text/latex": [
       "$$\\frac{\\sqrt{2}}{2} |01\\rangle- \\frac{\\sqrt{2}}{2} |11\\rangle$$"
      ],
      "text/plain": [
       "<IPython.core.display.Latex object>"
      ]
     },
     "execution_count": 88,
     "metadata": {},
     "output_type": "execute_result"
    }
   ],
   "source": [
    "sv_3 = sv.evolve(deutsch_3)\n",
    "sv_3.draw(output='latex')"
   ]
  },
  {
   "cell_type": "code",
   "execution_count": null,
   "id": "c251ceba",
   "metadata": {},
   "outputs": [],
   "source": []
  }
 ],
 "metadata": {
  "kernelspec": {
   "display_name": "Python 3 (ipykernel)",
   "language": "python",
   "name": "python3"
  },
  "language_info": {
   "codemirror_mode": {
    "name": "ipython",
    "version": 3
   },
   "file_extension": ".py",
   "mimetype": "text/x-python",
   "name": "python",
   "nbconvert_exporter": "python",
   "pygments_lexer": "ipython3",
   "version": "3.10.0"
  }
 },
 "nbformat": 4,
 "nbformat_minor": 5
}

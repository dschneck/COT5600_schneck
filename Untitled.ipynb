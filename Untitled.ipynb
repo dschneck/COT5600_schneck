{
 "cells": [
  {
   "cell_type": "code",
   "execution_count": 46,
   "id": "c8dfdc03",
   "metadata": {},
   "outputs": [],
   "source": [
    "from qiskit import *\n",
    "from qiskit.quantum_info import Statevector\n",
    "from qiskit.visualization import plot_bloch_multivector, plot_histogram\n",
    "from qiskit.providers.aer import QasmSimulator\n",
    "from math import pi\n",
    "from qiskit.extensions import UnitaryGate"
   ]
  },
  {
   "cell_type": "code",
   "execution_count": 47,
   "id": "86be97c7",
   "metadata": {},
   "outputs": [
    {
     "ename": "CircuitError",
     "evalue": "'0 is an invalid OPENQASM register name. See appendix A of https://arxiv.org/pdf/1707.03429v2.pdf.'",
     "output_type": "error",
     "traceback": [
      "\u001b[0;31m---------------------------------------------------------------------------\u001b[0m",
      "\u001b[0;31mCircuitError\u001b[0m                              Traceback (most recent call last)",
      "Input \u001b[0;32mIn [47]\u001b[0m, in \u001b[0;36m<module>\u001b[0;34m\u001b[0m\n\u001b[1;32m      1\u001b[0m a \u001b[38;5;241m=\u001b[39m QuantumRegister(\u001b[38;5;241m1\u001b[39m,\u001b[38;5;124m\"\u001b[39m\u001b[38;5;124ma\u001b[39m\u001b[38;5;124m\"\u001b[39m)\n\u001b[0;32m----> 2\u001b[0m b \u001b[38;5;241m=\u001b[39m \u001b[43mQuantumRegister\u001b[49m\u001b[43m(\u001b[49m\u001b[38;5;241;43m1\u001b[39;49m\u001b[43m,\u001b[49m\u001b[38;5;124;43m\"\u001b[39;49m\u001b[38;5;124;43m0\u001b[39;49m\u001b[38;5;124;43m\"\u001b[39;49m\u001b[43m)\u001b[49m\n\u001b[1;32m      3\u001b[0m circuit \u001b[38;5;241m=\u001b[39m QuantumCircuit(a, b)\n",
      "File \u001b[0;32m~/opt/anaconda3/envs/qiskit/lib/python3.10/site-packages/qiskit/circuit/register.py:103\u001b[0m, in \u001b[0;36mRegister.__init__\u001b[0;34m(self, size, name, bits)\u001b[0m\n\u001b[1;32m     98\u001b[0m         \u001b[38;5;28;01mraise\u001b[39;00m CircuitError(\n\u001b[1;32m     99\u001b[0m             \u001b[38;5;124m\"\u001b[39m\u001b[38;5;124mThe circuit name should be castable to a string \u001b[39m\u001b[38;5;124m\"\u001b[39m\n\u001b[1;32m    100\u001b[0m             \u001b[38;5;124m\"\u001b[39m\u001b[38;5;124m(or None for autogenerate a name).\u001b[39m\u001b[38;5;124m\"\u001b[39m\n\u001b[1;32m    101\u001b[0m         ) \u001b[38;5;28;01mfrom\u001b[39;00m \u001b[38;5;21;01mex\u001b[39;00m\n\u001b[1;32m    102\u001b[0m     \u001b[38;5;28;01mif\u001b[39;00m \u001b[38;5;28mself\u001b[39m\u001b[38;5;241m.\u001b[39mname_format\u001b[38;5;241m.\u001b[39mmatch(name) \u001b[38;5;129;01mis\u001b[39;00m \u001b[38;5;28;01mNone\u001b[39;00m:\n\u001b[0;32m--> 103\u001b[0m         \u001b[38;5;28;01mraise\u001b[39;00m CircuitError(\n\u001b[1;32m    104\u001b[0m             \u001b[38;5;124m\"\u001b[39m\u001b[38;5;132;01m%s\u001b[39;00m\u001b[38;5;124m is an invalid OPENQASM register name. See appendix\u001b[39m\u001b[38;5;124m\"\u001b[39m\n\u001b[1;32m    105\u001b[0m             \u001b[38;5;124m\"\u001b[39m\u001b[38;5;124m A of https://arxiv.org/pdf/1707.03429v2.pdf.\u001b[39m\u001b[38;5;124m\"\u001b[39m \u001b[38;5;241m%\u001b[39m name\n\u001b[1;32m    106\u001b[0m         )\n\u001b[1;32m    108\u001b[0m \u001b[38;5;28mself\u001b[39m\u001b[38;5;241m.\u001b[39m_name \u001b[38;5;241m=\u001b[39m name\n\u001b[1;32m    109\u001b[0m \u001b[38;5;28mself\u001b[39m\u001b[38;5;241m.\u001b[39m_size \u001b[38;5;241m=\u001b[39m size\n",
      "\u001b[0;31mCircuitError\u001b[0m: '0 is an invalid OPENQASM register name. See appendix A of https://arxiv.org/pdf/1707.03429v2.pdf.'"
     ]
    }
   ],
   "source": [
    "a = QuantumRegister(1,\"a\")\n",
    "b = QuantumRegister(1,\"0\")\n",
    "circuit = QuantumCircuit(a, b)"
   ]
  },
  {
   "cell_type": "code",
   "execution_count": 48,
   "id": "030b005d",
   "metadata": {},
   "outputs": [
    {
     "data": {
      "text/html": [
       "<pre style=\"word-wrap: normal;white-space: pre;background: #fff0;line-height: 1.1;font-family: &quot;Courier New&quot;,Courier,monospace\">   ┌──────────┐ ░ \n",
       "a: ┤0         ├─░─\n",
       "   │  Unitary │ ░ \n",
       "b: ┤1         ├─░─\n",
       "   └──────────┘ ░ </pre>"
      ],
      "text/plain": [
       "   ┌──────────┐ ░ \n",
       "a: ┤0         ├─░─\n",
       "   │  Unitary │ ░ \n",
       "b: ┤1         ├─░─\n",
       "   └──────────┘ ░ "
      ]
     },
     "execution_count": 48,
     "metadata": {},
     "output_type": "execute_result"
    }
   ],
   "source": [
    "circuit.draw()"
   ]
  },
  {
   "cell_type": "code",
   "execution_count": 43,
   "id": "dbdd886e",
   "metadata": {},
   "outputs": [
    {
     "name": "stdout",
     "output_type": "stream",
     "text": [
      "[[1, 0, 0, 0], [0, 1, 0, 0], [0, 0, 1, 0], [0, 0, 0, 1]]\n"
     ]
    }
   ],
   "source": [
    "pos = 0\n",
    "U = []\n",
    "for k in range(4):\n",
    "    U.append([0 if i != pos else 1 for i in range(4)])\n",
    "    pos += 1\n",
    "print(U)"
   ]
  },
  {
   "cell_type": "code",
   "execution_count": 44,
   "id": "eb74f73b",
   "metadata": {},
   "outputs": [
    {
     "data": {
      "text/plain": [
       "<qiskit.circuit.instructionset.InstructionSet at 0x7f9df99eb380>"
      ]
     },
     "execution_count": 44,
     "metadata": {},
     "output_type": "execute_result"
    }
   ],
   "source": [
    "#circuit.unitary(U, 'G')\n",
    "unitary = UnitaryGate(U)\n",
    "circuit.append(unitary, [a, b])\n",
    "circuit.barrier()"
   ]
  },
  {
   "cell_type": "code",
   "execution_count": 45,
   "id": "ec9aa662",
   "metadata": {},
   "outputs": [
    {
     "data": {
      "text/html": [
       "<pre style=\"word-wrap: normal;white-space: pre;background: #fff0;line-height: 1.1;font-family: &quot;Courier New&quot;,Courier,monospace\">   ┌──────────┐ ░ \n",
       "a: ┤0         ├─░─\n",
       "   │  Unitary │ ░ \n",
       "b: ┤1         ├─░─\n",
       "   └──────────┘ ░ </pre>"
      ],
      "text/plain": [
       "   ┌──────────┐ ░ \n",
       "a: ┤0         ├─░─\n",
       "   │  Unitary │ ░ \n",
       "b: ┤1         ├─░─\n",
       "   └──────────┘ ░ "
      ]
     },
     "execution_count": 45,
     "metadata": {},
     "output_type": "execute_result"
    }
   ],
   "source": [
    "circuit.draw()"
   ]
  },
  {
   "cell_type": "code",
   "execution_count": null,
   "id": "6afefce5",
   "metadata": {},
   "outputs": [],
   "source": []
  }
 ],
 "metadata": {
  "kernelspec": {
   "display_name": "Python 3 (ipykernel)",
   "language": "python",
   "name": "python3"
  },
  "language_info": {
   "codemirror_mode": {
    "name": "ipython",
    "version": 3
   },
   "file_extension": ".py",
   "mimetype": "text/x-python",
   "name": "python",
   "nbconvert_exporter": "python",
   "pygments_lexer": "ipython3",
   "version": "3.10.0"
  }
 },
 "nbformat": 4,
 "nbformat_minor": 5
}

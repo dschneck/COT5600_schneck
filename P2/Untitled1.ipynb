{
 "cells": [
  {
   "cell_type": "code",
   "execution_count": 15,
   "id": "ed4c79b7",
   "metadata": {},
   "outputs": [],
   "source": [
    "from qiskit import *\n",
    "from qiskit.quantum_info.operators import Operator\n",
    "from qiskit.tools.visualization import plot_histogram"
   ]
  },
  {
   "cell_type": "code",
   "execution_count": 16,
   "id": "ed9c42f6",
   "metadata": {},
   "outputs": [
    {
     "data": {
      "text/html": [
       "<pre style=\"word-wrap: normal;white-space: pre;background: #fff0;line-height: 1.1;font-family: &quot;Courier New&quot;,Courier,monospace\">      \n",
       "q3_0: \n",
       "      \n",
       "q3_1: \n",
       "      \n",
       "q3_2: \n",
       "      \n",
       "q3_3: \n",
       "      \n",
       "q3_4: \n",
       "      \n",
       "q3_5: \n",
       "      </pre>"
      ],
      "text/plain": [
       "      \n",
       "q3_0: \n",
       "      \n",
       "q3_1: \n",
       "      \n",
       "q3_2: \n",
       "      \n",
       "q3_3: \n",
       "      \n",
       "q3_4: \n",
       "      \n",
       "q3_5: \n",
       "      "
      ]
     },
     "execution_count": 16,
     "metadata": {},
     "output_type": "execute_result"
    }
   ],
   "source": [
    "qr = QuantumRegister(6)\n",
    "circuit = QuantumCircuit(qr)\n",
    "circuit.draw()"
   ]
  },
  {
   "cell_type": "code",
   "execution_count": 17,
   "id": "f0675867",
   "metadata": {},
   "outputs": [
    {
     "data": {
      "text/plain": [
       "<qiskit.circuit.instructionset.InstructionSet at 0x7fc2e8a7c6c0>"
      ]
     },
     "execution_count": 17,
     "metadata": {},
     "output_type": "execute_result"
    }
   ],
   "source": [
    "U = Operator([\n",
    "    [0,1],\n",
    "    [1,0]\n",
    "])\n",
    "temp = QuantumCircuit(1)\n",
    "temp.unitary(U, [0])"
   ]
  },
  {
   "cell_type": "code",
   "execution_count": 18,
   "id": "3c86052c",
   "metadata": {},
   "outputs": [
    {
     "data": {
      "text/html": [
       "<pre style=\"word-wrap: normal;white-space: pre;background: #fff0;line-height: 1.1;font-family: &quot;Courier New&quot;,Courier,monospace\">   ┌─────────┐\n",
       "q: ┤ Unitary ├\n",
       "   └─────────┘</pre>"
      ],
      "text/plain": [
       "   ┌─────────┐\n",
       "q: ┤ Unitary ├\n",
       "   └─────────┘"
      ]
     },
     "execution_count": 18,
     "metadata": {},
     "output_type": "execute_result"
    }
   ],
   "source": [
    "temp.draw()"
   ]
  },
  {
   "cell_type": "code",
   "execution_count": 19,
   "id": "92ea667a",
   "metadata": {},
   "outputs": [],
   "source": [
    "gate = temp.to_gate().control(5)"
   ]
  },
  {
   "cell_type": "code",
   "execution_count": 20,
   "id": "b9f4c4ba",
   "metadata": {},
   "outputs": [
    {
     "data": {
      "text/plain": [
       "<qiskit.circuit.instructionset.InstructionSet at 0x7fc2e8b61440>"
      ]
     },
     "execution_count": 20,
     "metadata": {},
     "output_type": "execute_result"
    }
   ],
   "source": [
    "circuit.append(gate, [0,1,2,3,4,5])"
   ]
  },
  {
   "cell_type": "code",
   "execution_count": 21,
   "id": "d3bed2b6",
   "metadata": {},
   "outputs": [
    {
     "data": {
      "text/html": [
       "<pre style=\"word-wrap: normal;white-space: pre;background: #fff0;line-height: 1.1;font-family: &quot;Courier New&quot;,Courier,monospace\">                    \n",
       "q3_0: ──────■───────\n",
       "            │       \n",
       "q3_1: ──────■───────\n",
       "            │       \n",
       "q3_2: ──────■───────\n",
       "            │       \n",
       "q3_3: ──────■───────\n",
       "            │       \n",
       "q3_4: ──────■───────\n",
       "      ┌─────┴──────┐\n",
       "q3_5: ┤ circuit-20 ├\n",
       "      └────────────┘</pre>"
      ],
      "text/plain": [
       "                    \n",
       "q3_0: ──────■───────\n",
       "            │       \n",
       "q3_1: ──────■───────\n",
       "            │       \n",
       "q3_2: ──────■───────\n",
       "            │       \n",
       "q3_3: ──────■───────\n",
       "            │       \n",
       "q3_4: ──────■───────\n",
       "      ┌─────┴──────┐\n",
       "q3_5: ┤ circuit-20 ├\n",
       "      └────────────┘"
      ]
     },
     "execution_count": 21,
     "metadata": {},
     "output_type": "execute_result"
    }
   ],
   "source": [
    "circuit.draw()"
   ]
  },
  {
   "cell_type": "code",
   "execution_count": null,
   "id": "312683f0",
   "metadata": {},
   "outputs": [],
   "source": []
  }
 ],
 "metadata": {
  "kernelspec": {
   "display_name": "Python 3 (ipykernel)",
   "language": "python",
   "name": "python3"
  },
  "language_info": {
   "codemirror_mode": {
    "name": "ipython",
    "version": 3
   },
   "file_extension": ".py",
   "mimetype": "text/x-python",
   "name": "python",
   "nbconvert_exporter": "python",
   "pygments_lexer": "ipython3",
   "version": "3.10.0"
  }
 },
 "nbformat": 4,
 "nbformat_minor": 5
}

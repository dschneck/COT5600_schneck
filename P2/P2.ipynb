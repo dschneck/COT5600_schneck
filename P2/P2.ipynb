{
 "cells": [
  {
   "cell_type": "code",
   "execution_count": 45,
   "id": "777957d0",
   "metadata": {},
   "outputs": [],
   "source": [
    "from qiskit import *\n",
    "from qiskit.tools.visualization import plot_histogram\n",
    "#from qiskit.circuit.library.standard_gates import HGate"
   ]
  },
  {
   "cell_type": "code",
   "execution_count": 46,
   "id": "40395926",
   "metadata": {},
   "outputs": [
    {
     "data": {
      "text/plain": [
       "<qiskit.circuit.instructionset.InstructionSet at 0x7fa6a552ee80>"
      ]
     },
     "execution_count": 46,
     "metadata": {},
     "output_type": "execute_result"
    }
   ],
   "source": [
    "num_qbits = 6\n",
    "pos = 0\n",
    "U = []\n",
    "for k in range(2):\n",
    "    U.append([1 if i != pos else 0 for i in range(2)])\n",
    "    pos += 1\n",
    "#U = [[1 if i == pos else 0 for i in range(2**num_qbits)] pos+=1 for j in range(2**num_qbits)]\n",
    "q_reg = QuantumRegister(num_qbits)\n",
    "c_reg = ClassicalRegister(num_qbits)\n",
    "circuit = QuantumCircuit(q_reg, c_reg)\n",
    "\n",
    "#temp = circuit.to_gate().control(5)\n",
    "circuit.append(temp, q_reg)"
   ]
  },
  {
   "cell_type": "code",
   "execution_count": 47,
   "id": "07e6db90",
   "metadata": {},
   "outputs": [
    {
     "name": "stdout",
     "output_type": "stream",
     "text": [
      "[[0, 1], [1, 0]]\n"
     ]
    }
   ],
   "source": [
    "print(U)"
   ]
  },
  {
   "cell_type": "code",
   "execution_count": 48,
   "id": "08527c6e",
   "metadata": {},
   "outputs": [
    {
     "data": {
      "text/html": [
       "<pre style=\"word-wrap: normal;white-space: pre;background: #fff0;line-height: 1.1;font-family: &quot;Courier New&quot;,Courier,monospace\">            \n",
       "q58_0: ──■──\n",
       "         │  \n",
       "q58_1: ──■──\n",
       "         │  \n",
       "q58_2: ──■──\n",
       "         │  \n",
       "q58_3: ──■──\n",
       "         │  \n",
       "q58_4: ──■──\n",
       "       ┌─┴─┐\n",
       "q58_5: ┤ H ├\n",
       "       └───┘\n",
       " c7: 6/═════\n",
       "            </pre>"
      ],
      "text/plain": [
       "            \n",
       "q58_0: ──■──\n",
       "         │  \n",
       "q58_1: ──■──\n",
       "         │  \n",
       "q58_2: ──■──\n",
       "         │  \n",
       "q58_3: ──■──\n",
       "         │  \n",
       "q58_4: ──■──\n",
       "       ┌─┴─┐\n",
       "q58_5: ┤ H ├\n",
       "       └───┘\n",
       " c7: 6/═════\n",
       "            "
      ]
     },
     "execution_count": 48,
     "metadata": {},
     "output_type": "execute_result"
    }
   ],
   "source": [
    "circuit.draw()"
   ]
  },
  {
   "cell_type": "code",
   "execution_count": 49,
   "id": "8788f115",
   "metadata": {},
   "outputs": [
    {
     "data": {
      "text/plain": [
       "<qiskit.circuit.instructionset.InstructionSet at 0x7fa6a4f32c00>"
      ]
     },
     "execution_count": 49,
     "metadata": {},
     "output_type": "execute_result"
    }
   ],
   "source": [
    "'''\n",
    "circuit.ccx(0,1,5)\n",
    "circuit.ccx(0,2,5)\n",
    "circuit.ccx(0,3,5)\n",
    "circuit.ccx(0,4,5)\n",
    "circuit.ccx(1,2 ,5)\n",
    "\n",
    "circuit.ccx(1,3,5)\n",
    "circuit.ccx(1,4,5)\n",
    "circuit.ccx(2,3,5)\n",
    "circuit.ccx(2,4,5)\n",
    "circuit.ccx(3,4,5)\n",
    "'''\n",
    "circuit.ccx(0, 1, 5)\n",
    "circuit.ccx(5, 2, 0)\n",
    "circuit.ccx(0, 3, 5)\n",
    "circuit.ccx(5, 4, 0)\n",
    "#circuit.cx()\n",
    "#circuit.mct([0,1,2,3,4], 5)\n",
    "\n",
    "circuit.unitary(U, [5])"
   ]
  },
  {
   "cell_type": "code",
   "execution_count": 50,
   "id": "65e4d134",
   "metadata": {},
   "outputs": [
    {
     "data": {
      "text/html": [
       "<pre style=\"word-wrap: normal;white-space: pre;background: #fff0;line-height: 1.1;font-family: &quot;Courier New&quot;,Courier,monospace\">                 ┌───┐     ┌───┐           \n",
       "q58_0: ──■────■──┤ X ├──■──┤ X ├───────────\n",
       "         │    │  └─┬─┘  │  └─┬─┘           \n",
       "q58_1: ──■────■────┼────┼────┼─────────────\n",
       "         │    │    │    │    │             \n",
       "q58_2: ──■────┼────■────┼────┼─────────────\n",
       "         │    │    │    │    │             \n",
       "q58_3: ──■────┼────┼────■────┼─────────────\n",
       "         │    │    │    │    │             \n",
       "q58_4: ──■────┼────┼────┼────■─────────────\n",
       "       ┌─┴─┐┌─┴─┐  │  ┌─┴─┐  │  ┌─────────┐\n",
       "q58_5: ┤ H ├┤ X ├──■──┤ X ├──■──┤ Unitary ├\n",
       "       └───┘└───┘     └───┘     └─────────┘\n",
       " c7: 6/════════════════════════════════════\n",
       "                                           </pre>"
      ],
      "text/plain": [
       "                 ┌───┐     ┌───┐           \n",
       "q58_0: ──■────■──┤ X ├──■──┤ X ├───────────\n",
       "         │    │  └─┬─┘  │  └─┬─┘           \n",
       "q58_1: ──■────■────┼────┼────┼─────────────\n",
       "         │    │    │    │    │             \n",
       "q58_2: ──■────┼────■────┼────┼─────────────\n",
       "         │    │    │    │    │             \n",
       "q58_3: ──■────┼────┼────■────┼─────────────\n",
       "         │    │    │    │    │             \n",
       "q58_4: ──■────┼────┼────┼────■─────────────\n",
       "       ┌─┴─┐┌─┴─┐  │  ┌─┴─┐  │  ┌─────────┐\n",
       "q58_5: ┤ H ├┤ X ├──■──┤ X ├──■──┤ Unitary ├\n",
       "       └───┘└───┘     └───┘     └─────────┘\n",
       " c7: 6/════════════════════════════════════\n",
       "                                           "
      ]
     },
     "execution_count": 50,
     "metadata": {},
     "output_type": "execute_result"
    }
   ],
   "source": [
    "circuit.draw()"
   ]
  },
  {
   "cell_type": "code",
   "execution_count": 51,
   "id": "9551150c",
   "metadata": {},
   "outputs": [],
   "source": [
    "#circuit.measure(5, 5)"
   ]
  },
  {
   "cell_type": "code",
   "execution_count": 52,
   "id": "7f51f7fc",
   "metadata": {},
   "outputs": [
    {
     "data": {
      "image/png": "[encoded data removed]",
      "text/plain": [
       "<Figure size 534.395x746.48 with 1 Axes>"
      ]
     },
     "execution_count": 52,
     "metadata": {},
     "output_type": "execute_result"
    }
   ],
   "source": [
    "circuit.draw(output='mpl', cregbundle=False)"
   ]
  },
  {
   "cell_type": "code",
   "execution_count": 53,
   "id": "a6438159",
   "metadata": {},
   "outputs": [],
   "source": [
    "simulator = Aer.get_backend('qasm_simulator')\n",
    "result = execute(circuit, backend=simulator).result()"
   ]
  },
  {
   "cell_type": "code",
   "execution_count": 54,
   "id": "e40ac671",
   "metadata": {},
   "outputs": [
    {
     "ename": "QiskitError",
     "evalue": "'No counts for experiment \"<qiskit.circuit.quantumcircuit.QuantumCircuit object at 0x7fa6a26e06d0>\"'",
     "output_type": "error",
     "traceback": [
      "\u001b[0;31m---------------------------------------------------------------------------\u001b[0m",
      "\u001b[0;31mQiskitError\u001b[0m                               Traceback (most recent call last)",
      "Input \u001b[0;32mIn [54]\u001b[0m, in \u001b[0;36m<module>\u001b[0;34m\u001b[0m\n\u001b[0;32m----> 1\u001b[0m plot_histogram(\u001b[43mresult\u001b[49m\u001b[38;5;241;43m.\u001b[39;49m\u001b[43mget_counts\u001b[49m\u001b[43m(\u001b[49m\u001b[43mcircuit\u001b[49m\u001b[43m)\u001b[49m)\n",
      "File \u001b[0;32m~/opt/anaconda3/envs/qiskit/lib/python3.10/site-packages/qiskit/result/result.py:300\u001b[0m, in \u001b[0;36mResult.get_counts\u001b[0;34m(self, experiment)\u001b[0m\n\u001b[1;32m    298\u001b[0m         dict_list\u001b[38;5;241m.\u001b[39mappend(statevector\u001b[38;5;241m.\u001b[39mStatevector(vec)\u001b[38;5;241m.\u001b[39mprobabilities_dict(decimals\u001b[38;5;241m=\u001b[39m\u001b[38;5;241m15\u001b[39m))\n\u001b[1;32m    299\u001b[0m     \u001b[38;5;28;01melse\u001b[39;00m:\n\u001b[0;32m--> 300\u001b[0m         \u001b[38;5;28;01mraise\u001b[39;00m QiskitError(\u001b[38;5;124mf\u001b[39m\u001b[38;5;124m'\u001b[39m\u001b[38;5;124mNo counts for experiment \u001b[39m\u001b[38;5;124m\"\u001b[39m\u001b[38;5;132;01m{\u001b[39;00m\u001b[38;5;28mrepr\u001b[39m(key)\u001b[38;5;132;01m}\u001b[39;00m\u001b[38;5;124m\"\u001b[39m\u001b[38;5;124m'\u001b[39m)\n\u001b[1;32m    302\u001b[0m \u001b[38;5;66;03m# Return first item of dict_list if size is 1\u001b[39;00m\n\u001b[1;32m    303\u001b[0m \u001b[38;5;28;01mif\u001b[39;00m \u001b[38;5;28mlen\u001b[39m(dict_list) \u001b[38;5;241m==\u001b[39m \u001b[38;5;241m1\u001b[39m:\n",
      "\u001b[0;31mQiskitError\u001b[0m: 'No counts for experiment \"<qiskit.circuit.quantumcircuit.QuantumCircuit object at 0x7fa6a26e06d0>\"'"
     ]
    }
   ],
   "source": [
    "plot_histogram(result.get_counts(circuit))"
   ]
  },
  {
   "cell_type": "code",
   "execution_count": null,
   "id": "ecb67e8c",
   "metadata": {},
   "outputs": [],
   "source": []
  }
 ],
 "metadata": {
  "kernelspec": {
   "display_name": "Python 3 (ipykernel)",
   "language": "python",
   "name": "python3"
  },
  "language_info": {
   "codemirror_mode": {
    "name": "ipython",
    "version": 3
   },
   "file_extension": ".py",
   "mimetype": "text/x-python",
   "name": "python",
   "nbconvert_exporter": "python",
   "pygments_lexer": "ipython3",
   "version": "3.10.0"
  }
 },
 "nbformat": 4,
 "nbformat_minor": 5
}
